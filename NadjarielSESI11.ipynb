{
 "cells": [
  {
   "cell_type": "code",
   "execution_count": 3,
   "id": "c5b8b8ad-bb76-4099-92ed-4d6ee66b173c",
   "metadata": {},
   "outputs": [
    {
     "name": "stdout",
     "output_type": "stream",
     "text": [
      "leirajdaN akuS gnidoC\n",
      "Coding Nadjariel Suka\n",
      "N4dj4r13l S|_|k4 C0d1ng\n",
      "Nadjariel Suka Coding\n"
     ]
    }
   ],
   "source": [
    "# Function 1: Membalik huruf di setiap kata, tapi urutan katanya tetap\n",
    "def reverse_per_kata(kalimat):\n",
    "    # Memisahkan kalimat menjadi list kata\n",
    "    kata_kata = kalimat.split()\n",
    "    # Membalik setiap kata satu per satu, lalu gabungkan kembali\n",
    "    hasil = ' '.join([kata[::-1] for kata in kata_kata])\n",
    "    return hasil\n",
    "\n",
    "\n",
    "# Function 2: Menyusun ulang kata-kata berdasarkan urutan yang diberikan\n",
    "def urutkan_kalimat(kalimat, urutan):\n",
    "    # Memisahkan kalimat menjadi list kata\n",
    "    kata_kata = kalimat.split()\n",
    "    # Mengambil kata dari indeks sesuai list urutan (dikurang 1 karena urutan dimulai dari 1)\n",
    "    hasil = ' '.join([kata_kata[i - 1] for i in urutan])\n",
    "    return hasil\n",
    "\n",
    "\n",
    "# Function 3: Mengganti huruf vokal kecil atau kapital sesuai opsi\n",
    "def ganti_vokal(kalimat, opsi):\n",
    "    # Kamus pengganti vokal kecil\n",
    "    vokal_kecil = {'a': '4', 'i': '1', 'u': '|_|', 'e': '3', 'o': '0'}\n",
    "    # Kamus pengganti vokal kapital\n",
    "    vokal_besar = {'A': '4', 'I': '1', 'U': '|_|', 'E': '3', 'O': '0'}\n",
    "\n",
    "    hasil = ''  # Menyimpan hasil akhir\n",
    "    \n",
    "\n",
    "    # Memeriksa setiap karakter dalam kalimat\n",
    "    for huruf in kalimat:\n",
    "        if opsi == 1 and huruf in vokal_kecil:\n",
    "            # Jika opsi 1, ganti huruf vokal kecil saja\n",
    "            hasil += vokal_kecil[huruf]\n",
    "        elif opsi == 2 and huruf in vokal_besar:\n",
    "            # Jika opsi 2, ganti huruf vokal kapital saja\n",
    "            hasil += vokal_besar[huruf]\n",
    "        else:\n",
    "            # Selain itu, huruf tidak diubah\n",
    "            hasil += huruf\n",
    "    return hasil\n",
    "\n",
    "\n",
    "\n",
    "# Uji function 1: Membalik setiap kata\n",
    "print(reverse_per_kata(\"Nadjariel Suka Coding\"))\n",
    "# Output: \"\"\n",
    "\n",
    "# Uji function 2: Menyusun ulang kata\n",
    "print(urutkan_kalimat(\"Nadjariel Suka Coding\", [3, 1, 2]))\n",
    "# Output: \"\"\n",
    "\n",
    "# Uji function 3: Ganti vokal kecil\n",
    "print(ganti_vokal(\"Nadjariel Suka Coding\", 1))\n",
    "# Output: \"\"\n",
    "\n",
    "# Uji function 3: Ganti vokal kapital (tidak ada huruf kapital vokal di sini, jadi tetap)\n",
    "print(ganti_vokal(\"Nadjariel Suka Coding\", 2))\n",
    "# Output: \"\""
   ]
  },
  {
   "cell_type": "code",
   "execution_count": null,
   "id": "386b9f72-02a6-4851-a068-cf0a4bc2f47d",
   "metadata": {},
   "outputs": [],
   "source": []
  }
 ],
 "metadata": {
  "kernelspec": {
   "display_name": "Python 3 (ipykernel)",
   "language": "python",
   "name": "python3"
  },
  "language_info": {
   "codemirror_mode": {
    "name": "ipython",
    "version": 3
   },
   "file_extension": ".py",
   "mimetype": "text/x-python",
   "name": "python",
   "nbconvert_exporter": "python",
   "pygments_lexer": "ipython3",
   "version": "3.12.7"
  }
 },
 "nbformat": 4,
 "nbformat_minor": 5
}
