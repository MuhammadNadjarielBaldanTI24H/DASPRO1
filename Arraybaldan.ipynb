{
 "cells": [
  {
   "cell_type": "code",
   "execution_count": 88,
   "id": "55530b0e",
   "metadata": {},
   "outputs": [],
   "source": [
    "import numpy as np"
   ]
  },
  {
   "cell_type": "code",
   "execution_count": 89,
   "id": "ab2c57cc",
   "metadata": {},
   "outputs": [],
   "source": [
    "mat1D = np.array([1,2,3,4,5,6,7,8,9])\n",
    "mat2D = np.array([[1,2,3],[4,5,6],[7,8,9]])"
   ]
  },
  {
   "cell_type": "code",
   "execution_count": 90,
   "id": "5a5cf67e",
   "metadata": {},
   "outputs": [
    {
     "name": "stdout",
     "output_type": "stream",
     "text": [
      "Matriks 1D :\n",
      "[1 2 3 4 5 6 7 8 9]\n",
      "Matriks 1D indeks ke 7:8\n",
      "Matriks 1D * 10 :[10 20 30 40 50 60 70 80 90] \n"
     ]
    }
   ],
   "source": [
    "print(f\"Matriks 1D :\\n{mat1D}\")\n",
    "print(f\"Matriks 1D indeks ke 7:{mat1D[7]}\")\n",
    "print(f\"Matriks 1D * 10 :{mat1D *10} \")\n"
   ]
  },
  {
   "cell_type": "markdown",
   "id": "c2d61836",
   "metadata": {},
   "source": [
    "print(f\"Matriks 2D:\\n{mat2D}\")\n",
    "print(f\"Matriks 2D * 10 :\\n{mat2D * 10}\")\n",
    "print(mat2D10[0])\n",
    "print(mat2D10[0][2])"
   ]
  },
  {
   "cell_type": "code",
   "execution_count": null,
   "id": "7a81fabd",
   "metadata": {},
   "outputs": [],
   "source": [
    "print(mat1D.shape)\n",
    "print(mat2D.shape)"
   ]
  },
  {
   "cell_type": "code",
   "execution_count": null,
   "id": "ad3d1567",
   "metadata": {},
   "outputs": [],
   "source": [
    "print(f\"Ukuran dari mat1D:{mat1D.size}\")\n",
    "print(f\"Ukuran dari mat2D:{mat2D.size}\")"
   ]
  },
  {
   "cell_type": "code",
   "execution_count": null,
   "id": "a9272dbe",
   "metadata": {},
   "outputs": [],
   "source": [
    "#spesial matrix\n",
    "mZero = np.zeros((3,3))\n",
    "mOne = np.ones((3000,3000))\n",
    "mFull = np.full((4,4),7)#Membuat array ukuran 4*4 diisi dengan nilai 7\n",
    "mIdentity = np.eye((4))\n",
    "mFRandom1D = np.random.rand(5)\n",
    "mFRandom2D = np.random.rand(3,3)\n",
    "mIRandom1D = np.random.randint(10,100,size=(4,4))\n",
    "\n",
    "print(f\"Matriks mZero :\\n {mZero}\")\n",
    "print(f\"Matriks mOne :\\n {mOne}\")\n",
    "print(f\"Matriks mFull :\\n{mFull}\")\n",
    "print(f\"Matriks Indentitas :\\n {mIdentity}\")\n",
    "print(f\"Matriks mFRandom1D :\\n {mFRandom1D}\")\n",
    "print(f\"Matriks mFRandom2D:\\n {mFRandom2D}\")\n",
    "print(f\"Matriks mFRandom1D :\\n {mFRandom1D}\")\n",
    "print(f\"Matriks mFRandom2D:\\n {mFRandom2D}\")\n",
    "\n",
    "\n"
   ]
  },
  {
   "cell_type": "code",
   "execution_count": null,
   "id": "b66d4334",
   "metadata": {},
   "outputs": [],
   "source": [
    "#Mengubah bentuk array \n",
    "data = np.array([[1,2,3],[4,5,6],[7,8,9]])\n",
    "mshape = data.reshape((9,1))\n",
    "mFlat = data.flatten()\n",
    "\n",
    "print(f\"Matriks Data :\\n {data}\")\n",
    "print(f\"Matriks Reshape :\\n {mshape}\")\n",
    "print(f\"Matriks mFlat :\\n {mFlat}\")\n",
    "\n"
   ]
  },
  {
   "cell_type": "code",
   "execution_count": null,
   "id": "98830df2",
   "metadata": {},
   "outputs": [],
   "source": []
  },
  {
   "cell_type": "code",
   "execution_count": 93,
   "id": "84b351ed",
   "metadata": {},
   "outputs": [
    {
     "name": "stdout",
     "output_type": "stream",
     "text": [
      "Hasil dari dot product:69\n",
      "Hasil penjumlahan matriks:\n",
      "[ 3  7 10 13]\n",
      "Nilai minimum : 2\n",
      "Nilai Maksimum : 9\n",
      "Nilai Rata-rata : 5.75\n",
      "Nilai Total: 23\n",
      "Nilai Deviasi : 2.5860201081971503\n"
     ]
    }
   ],
   "source": [
    "#Deskriptif Statistik \n",
    "x = np.array([1,2,3,4])\n",
    "y = np.array([2,5,7,9])\n",
    "\n",
    "#Menghitung dot product\n",
    "r1 = np.dot(x,y)\n",
    "r2 = np.add(x,y)\n",
    "print(f\"Hasil dari dot product:{r1}\")\n",
    "print(f\"Hasil penjumlahan matriks:\\n{r2}\")\n",
    "print(f\"Nilai minimum : {y.min()}\")\n",
    "print(f\"Nilai Maksimum : {y.max()}\")\n",
    "print(f\"Nilai Rata-rata : {y.mean()}\")\n",
    "print(f\"Nilai Total: {y.sum()}\")\n",
    "print(f\"Nilai Deviasi : {y.std()}\")\n"
   ]
  },
  {
   "cell_type": "code",
   "execution_count": null,
   "id": "6bd9b8b5",
   "metadata": {},
   "outputs": [],
   "source": [
    "#Filtering \n",
    "\n",
    "nilaiPemrograman = np.array([100,90,100,80,50,50,50,40])\n",
    "#Tampilkan nilai pemrograman yang lebih dari 50-> LULUS\n",
    "#Berapakah jumlah mahasiswa yang lulus\n",
    "jmlLulus = nilaiPemrograman[nilaiPemrograman > 50]\n",
    "print(jmlLulus)\n",
    "print(f\"Mahasiswa yang lulus sebanyak : {jmlLulus.size}\")\n",
    "print(f\"Mahasiswa yang tidak lulus : {nilaiPemrograman.size-jmlLulus.size}\")\n"
   ]
  },
  {
   "cell_type": "markdown",
   "id": "7cb89993",
   "metadata": {},
   "source": [
    "<b>Project Generate Data</b> <br>\n",
    "Buatlah 1000 Data customer CC, yang akan digunakan untuk prediksi atau\n",
    "klasifikasi yaitu:\n",
    "<ol>\n",
    "    <li>Usia : 17 - 60 </li>\n",
    "    <li>Gender : L/P</li>\n",
    "    <li>Transaksi PerBulan : 0-50</li>\n",
    "</ol>\n",
    "        "
   ]
  },
  {
   "cell_type": "code",
   "execution_count": 94,
   "id": "6ef9d332",
   "metadata": {},
   "outputs": [
    {
     "name": "stdout",
     "output_type": "stream",
     "text": [
      "     usia gender  transaksi pembayaran\n",
      "0      54      L         26      Buruk\n",
      "1      44      P         44      Buruk\n",
      "2      60      L         27      Buruk\n",
      "3      37      L         21      Buruk\n",
      "4      57      P         45      Bagus\n",
      "..    ...    ...        ...        ...\n",
      "995    50      L         27      Bagus\n",
      "996    46      L         37      Buruk\n",
      "997    26      L         26      Buruk\n",
      "998    17      P         39      Buruk\n",
      "999    29      L         17      Buruk\n",
      "\n",
      "[1000 rows x 4 columns]\n",
      "<class 'pandas.core.frame.DataFrame'>\n",
      "RangeIndex: 1000 entries, 0 to 999\n",
      "Data columns (total 4 columns):\n",
      " #   Column      Non-Null Count  Dtype \n",
      "---  ------      --------------  ----- \n",
      " 0   usia        1000 non-null   int32 \n",
      " 1   gender      1000 non-null   object\n",
      " 2   transaksi   1000 non-null   int32 \n",
      " 3   pembayaran  1000 non-null   object\n",
      "dtypes: int32(2), object(2)\n",
      "memory usage: 23.6+ KB\n",
      "None\n",
      "   usia gender  transaksi pembayaran\n",
      "0    54      L         26      Buruk\n",
      "1    44      P         44      Buruk\n",
      "2    60      L         27      Buruk\n",
      "3    37      L         21      Buruk\n",
      "4    57      P         45      Bagus\n",
      "Usia Customer termuda:17\n",
      "Usia Customer tertua:60\n",
      "bumlah Customer Laki-laki: {jmlL.size}\n"
     ]
    }
   ],
   "source": [
    "import numpy as np \n",
    "import pandas as pd\n",
    "\n",
    "jmlData = 1000\n",
    "usia = np.random. randint(17,61,size=jmlData)\n",
    "gender = np.random.choice(['L','P'],size=jmlData)\n",
    "transaksi = np. random. randint (0,51,size=jmlData)\n",
    "pembayaran = np.random.choice(['Buruk','Sedang','Bagus'],size=jmlData)\n",
    "\n",
    "df = pd.DataFrame({\n",
    "    'usia' : usia,\n",
    "    'gender': gender,\n",
    "    'transaksi' : transaksi,\n",
    "    'pembayaran' : pembayaran\n",
    "})\n",
    "\n",
    "print(df)\n",
    "print(df.info()) #Menampilkan karakteristik data\n",
    "print(df.head()) #Menampilkan isi tabel 5 baris pertama\n",
    "#tampilkan usia yang paling muda\n",
    "print(f\"Usia Customer termuda:{df['usia'].min()}\")\n",
    "print(f\"Usia Customer tertua:{df['usia'].max()}\")\n",
    "#Tampilkan jumlah customer yang Laki-laki\n",
    "jmlL = df[df['gender']=='L']\n",
    "print (\"bumlah Customer Laki-laki: {jmlL.size}\")\n",
    "df. to_csv(\"dataCustomer.csv\")"
   ]
  },
  {
   "cell_type": "code",
   "execution_count": null,
   "id": "e83035ce",
   "metadata": {},
   "outputs": [],
   "source": []
  }
 ],
 "metadata": {
  "kernelspec": {
   "display_name": "Python 3 (ipykernel)",
   "language": "python",
   "name": "python3"
  },
  "language_info": {
   "codemirror_mode": {
    "name": "ipython",
    "version": 3
   },
   "file_extension": ".py",
   "mimetype": "text/x-python",
   "name": "python",
   "nbconvert_exporter": "python",
   "pygments_lexer": "ipython3",
   "version": "3.9.12"
  }
 },
 "nbformat": 4,
 "nbformat_minor": 5
}
