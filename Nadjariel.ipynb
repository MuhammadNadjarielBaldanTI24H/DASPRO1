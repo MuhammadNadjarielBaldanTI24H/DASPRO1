{
 "cells": [
  {
   "cell_type": "markdown",
   "id": "2918c312-2767-4204-8e8a-8d6f478da4a4",
   "metadata": {},
   "source": [
    "<h1>Aritmatika.py</h1>"
   ]
  },
  {
   "cell_type": "code",
   "execution_count": 3,
   "id": "c2fd0068-a262-4677-a80a-90ce5f335a39",
   "metadata": {},
   "outputs": [],
   "source": [
    "# aritmatika.py\n",
    "\n",
    "def penjumlahan(a, b):\n",
    "    return a + b\n",
    "\n",
    "def perpangkatan(a, b):\n",
    "    return a ** b\n",
    "\n",
    "def perkalian(a, b):\n",
    "    return a * b\n",
    "\n",
    "def menu_aritmatika():\n",
    "    while True:\n",
    "        print(\"\\n-- Menu Aritmatika --\")\n",
    "        print(\"1. Penjumlahan\")\n",
    "        print(\"2. Perpangkatan\")\n",
    "        print(\"3. Perkalian\")\n",
    "        print(\"4. Kembali ke Menu Utama\")\n",
    "        pilihan = input(\"Pilih operasi (1-4): \")\n",
    "        \n",
    "        if pilihan == '4':\n",
    "            break\n",
    "        if pilihan not in ['1', '2', '3']:\n",
    "            print(\"Pilihan tidak valid, coba lagi.\")\n",
    "            continue\n",
    "        \n",
    "        try:\n",
    "            a = float(input(\"Masukkan bilangan pertama: \"))\n",
    "            b = float(input(\"Masukkan bilangan kedua: \"))\n",
    "        except ValueError:\n",
    "            print(\"Input harus angka!\")\n",
    "            continue\n",
    "        \n",
    "        if pilihan == '1':\n",
    "            hasil = penjumlahan(a, b)\n",
    "            print(f\"Hasil penjumlahan: {hasil}\")\n",
    "        elif pilihan == '2':\n",
    "            hasil = perpangkatan(a, b)\n",
    "            print(f\"Hasil perpangkatan: {hasil}\")\n",
    "        elif pilihan == '3':\n",
    "            hasil = perkalian(a, b)\n",
    "            print(f\"Hasil perkalian: {hasil}\")"
   ]
  },
  {
   "cell_type": "markdown",
   "id": "36b5554e-00bc-44be-aeb8-4884518bc574",
   "metadata": {},
   "source": [
    "<h1>Konfersi.py</h1>"
   ]
  },
  {
   "cell_type": "code",
   "execution_count": 4,
   "id": "73eaa222-010d-43fc-8b90-dbed69ab5931",
   "metadata": {},
   "outputs": [],
   "source": [
    "# konversi.py\n",
    "\n",
    "def cm_to_m(cm):\n",
    "    return cm / 100\n",
    "\n",
    "def m_to_cm(m):\n",
    "    return m * 100\n",
    "\n",
    "def menu_konversi():\n",
    "    while True:\n",
    "        print(\"\\n-- Menu Konversi --\")\n",
    "        print(\"1. CM to M\")\n",
    "        print(\"2. M to CM\")\n",
    "        print(\"3. Kembali ke Menu Utama\")\n",
    "        pilihan = input(\"Pilih konversi (1-3): \")\n",
    "        \n",
    "        if pilihan == '3':\n",
    "            break\n",
    "        if pilihan not in ['1', '2']:\n",
    "            print(\"Pilihan tidak valid, coba lagi.\")\n",
    "            continue\n",
    "        \n",
    "        try:\n",
    "            nilai = float(input(\"Masukkan nilai desimal: \"))\n",
    "        except ValueError:\n",
    "            print(\"Input harus angka!\")\n",
    "            continue\n",
    "        if pilihan == '1':\n",
    "            hasil = cm_to_m(nilai)\n",
    "            print(f\"{nilai} cm = {hasil} m\")\n",
    "        elif pilihan == '2':\n",
    "            hasil = m_to_cm(nilai)\n",
    "            print(f\"{nilai} m = {hasil} cm\")"
   ]
  },
  {
   "cell_type": "markdown",
   "id": "e7b8a9b8-65c8-436b-9801-3dc541ba06e2",
   "metadata": {},
   "source": [
    "<h1>Ubah_bilangan.py</h1>"
   ]
  },
  {
   "cell_type": "code",
   "execution_count": 5,
   "id": "3f86cc9a-88b5-4c14-94dd-303c393be1d4",
   "metadata": {},
   "outputs": [],
   "source": [
    "# ubah_bilangan.py\n",
    "\n",
    "def desimal_to_biner(n):\n",
    "    return bin(n)[2:]\n",
    "\n",
    "def desimal_to_oktal(n):\n",
    "    return oct(n)[2:]\n",
    "\n",
    "def desimal_to_heksadesimal(n):\n",
    "    return hex(n)[2:].upper()\n",
    "\n",
    "def menu_ubah_bilangan():\n",
    "    while True:\n",
    "        print(\"\\n-- Menu Ubah Bilangan --\")\n",
    "        print(\"1. Desimal to Biner\")\n",
    "        print(\"2. Desimal to Oktal\")\n",
    "        print(\"3. Desimal to Hexadesimal\")\n",
    "        print(\"4. Kembali ke Menu Utama\")\n",
    "        pilihan = input(\"Pilih konversi (1-4): \")\n",
    "        \n",
    "        if pilihan == '4':\n",
    "            break\n",
    "        if pilihan not in ['1', '2', '3']:\n",
    "            print(\"Pilihan tidak valid, coba lagi.\")\n",
    "            continue\n",
    "        \n",
    "        try:\n",
    "            n = int(input(\"Masukkan bilangan desimal (integer): \"))\n",
    "        except ValueError:\n",
    "            print(\"Input harus bilangan bulat!\")\n",
    "            continue\n",
    "        \n",
    "        if pilihan == '1':\n",
    "            hasil = desimal_to_biner(n)\n",
    "            print(f\"Desimal {n} ke Biner = {hasil}\")\n",
    "        elif pilihan == '2':\n",
    "            hasil = desimal_to_oktal(n)\n",
    "            print(f\"Desimal {n} ke Oktal = {hasil}\")\n",
    "        elif pilihan == '3':\n",
    "            hasil = desimal_to_heksadesimal(n)\n",
    "            print(f\"Desimal {n} ke Hexadesimal = {hasil}\")"
   ]
  },
  {
   "cell_type": "markdown",
   "id": "18825ae0-f844-40db-9ad7-6e9383d1475d",
   "metadata": {},
   "source": [
    "<h1>Main.py</h1>"
   ]
  },
  {
   "cell_type": "code",
   "execution_count": 6,
   "id": "3599e404-c945-4f11-bdad-93864fadd1f1",
   "metadata": {},
   "outputs": [
    {
     "name": "stdout",
     "output_type": "stream",
     "text": [
      "\n",
      "=== Menu Utama ===\n",
      "1. Aritmatika\n",
      "2. Konversi\n",
      "3. Ubah Bilangan\n",
      "4. Keluar\n"
     ]
    },
    {
     "name": "stdin",
     "output_type": "stream",
     "text": [
      "Pilih menu (1-4):  1\n"
     ]
    },
    {
     "name": "stdout",
     "output_type": "stream",
     "text": [
      "\n",
      "-- Menu Aritmatika --\n",
      "1. Penjumlahan\n",
      "2. Perpangkatan\n",
      "3. Perkalian\n",
      "4. Kembali ke Menu Utama\n"
     ]
    },
    {
     "name": "stdin",
     "output_type": "stream",
     "text": [
      "Pilih operasi (1-4):  2\n",
      "Masukkan bilangan pertama:  1\n",
      "Masukkan bilangan kedua:  2\n"
     ]
    },
    {
     "name": "stdout",
     "output_type": "stream",
     "text": [
      "Hasil perpangkatan: 1.0\n",
      "\n",
      "-- Menu Aritmatika --\n",
      "1. Penjumlahan\n",
      "2. Perpangkatan\n",
      "3. Perkalian\n",
      "4. Kembali ke Menu Utama\n"
     ]
    },
    {
     "name": "stdin",
     "output_type": "stream",
     "text": [
      "Pilih operasi (1-4):  3\n",
      "Masukkan bilangan pertama:  2\n",
      "Masukkan bilangan kedua:  4\n"
     ]
    },
    {
     "name": "stdout",
     "output_type": "stream",
     "text": [
      "Hasil perkalian: 8.0\n",
      "\n",
      "-- Menu Aritmatika --\n",
      "1. Penjumlahan\n",
      "2. Perpangkatan\n",
      "3. Perkalian\n",
      "4. Kembali ke Menu Utama\n"
     ]
    },
    {
     "name": "stdin",
     "output_type": "stream",
     "text": [
      "Pilih operasi (1-4):  3\n",
      "Masukkan bilangan pertama:  3\n",
      "Masukkan bilangan kedua:  3\n"
     ]
    },
    {
     "name": "stdout",
     "output_type": "stream",
     "text": [
      "Hasil perkalian: 9.0\n",
      "\n",
      "-- Menu Aritmatika --\n",
      "1. Penjumlahan\n",
      "2. Perpangkatan\n",
      "3. Perkalian\n",
      "4. Kembali ke Menu Utama\n"
     ]
    },
    {
     "name": "stdin",
     "output_type": "stream",
     "text": [
      "Pilih operasi (1-4):  4\n"
     ]
    },
    {
     "name": "stdout",
     "output_type": "stream",
     "text": [
      "\n",
      "=== Menu Utama ===\n",
      "1. Aritmatika\n",
      "2. Konversi\n",
      "3. Ubah Bilangan\n",
      "4. Keluar\n"
     ]
    },
    {
     "name": "stdin",
     "output_type": "stream",
     "text": [
      "Pilih menu (1-4):  4\n"
     ]
    },
    {
     "name": "stdout",
     "output_type": "stream",
     "text": [
      "Terima kasih telah menggunakan program ini.\n"
     ]
    }
   ],
   "source": [
    "def penjumlahan(a, b):\n",
    "    return a + b\n",
    "\n",
    "def perpangkatan(a, b):\n",
    "    return a ** b\n",
    "\n",
    "def perkalian(a, b):\n",
    "    return a * b\n",
    "\n",
    "def cm_to_m(cm):\n",
    "    return cm / 100\n",
    "\n",
    "def m_to_cm(m):\n",
    "    return m * 100\n",
    "\n",
    "def desimal_to_biner(n):\n",
    "    return bin(n)[2:]\n",
    "\n",
    "def desimal_to_oktal(n):\n",
    "    return oct(n)[2:]\n",
    "\n",
    "def desimal_to_heksadesimal(n):\n",
    "    return hex(n)[2:].upper()\n",
    "\n",
    "def menu_aritmatika():\n",
    "    while True:\n",
    "        print(\"\\n-- Menu Aritmatika --\")\n",
    "        print(\"1. Penjumlahan\")\n",
    "        print(\"2. Perpangkatan\")\n",
    "        print(\"3. Perkalian\")\n",
    "        print(\"4. Kembali ke Menu Utama\")\n",
    "        pilihan = input(\"Pilih operasi (1-4): \")\n",
    "        \n",
    "        if pilihan == '4':\n",
    "            break\n",
    "        if pilihan not in ['1', '2', '3']:\n",
    "            print(\"Pilihan tidak valid, coba lagi.\")\n",
    "            continue\n",
    "        \n",
    "        try:\n",
    "            a = float(input(\"Masukkan bilangan pertama: \"))\n",
    "            b = float(input(\"Masukkan bilangan kedua: \"))\n",
    "        except ValueError:\n",
    "            print(\"Input harus angka!\")\n",
    "            continue\n",
    "        \n",
    "        if pilihan == '1':\n",
    "            hasil = penjumlahan(a, b)\n",
    "            print(f\"Hasil penjumlahan: {hasil}\")\n",
    "        elif pilihan == '2':\n",
    "            hasil = perpangkatan(a, b)\n",
    "            print(f\"Hasil perpangkatan: {hasil}\")\n",
    "        elif pilihan == '3':\n",
    "            hasil = perkalian(a, b)\n",
    "            print(f\"Hasil perkalian: {hasil}\")\n",
    "\n",
    "def menu_konversi():\n",
    "    while True:\n",
    "        print(\"\\n-- Menu Konversi --\")\n",
    "        print(\"1. CM to M\")\n",
    "        print(\"2. M to CM\")\n",
    "        print(\"3. Kembali ke Menu Utama\")\n",
    "        pilihan = input(\"Pilih konversi (1-3): \")\n",
    "        \n",
    "        if pilihan == '3':\n",
    "            break\n",
    "        if pilihan not in ['1', '2']:\n",
    "            print(\"Pilihan tidak valid, coba lagi.\")\n",
    "            continue\n",
    "        \n",
    "        try:\n",
    "            nilai = float(input(\"Masukkan nilai desimal: \"))\n",
    "        except ValueError:\n",
    "            print(\"Input harus angka!\")\n",
    "            continue\n",
    "        \n",
    "        if pilihan == '1':\n",
    "            hasil = cm_to_m(nilai)\n",
    "            print(f\"{nilai} cm = {hasil} m\")\n",
    "        elif pilihan == '2':\n",
    "            hasil = m_to_cm(nilai)\n",
    "            print(f\"{nilai} m = {hasil} cm\")\n",
    "\n",
    "def menu_ubah_bilangan():\n",
    "    while True:\n",
    "        print(\"\\n-- Menu Ubah Bilangan --\")\n",
    "        print(\"1. Desimal to Biner\")\n",
    "        print(\"2. Desimal to Oktal\")\n",
    "        print(\"3. Desimal to Hexadesimal\")\n",
    "        print(\"4. Kembali ke Menu Utama\")\n",
    "        pilihan = input(\"Pilih konversi (1-4): \")\n",
    "        \n",
    "        if pilihan == '4':\n",
    "            break\n",
    "        if pilihan not in ['1', '2', '3']:\n",
    "            print(\"Pilihan tidak valid, coba lagi.\")\n",
    "            continue\n",
    "        \n",
    "        try:\n",
    "            n = int(input(\"Masukkan bilangan desimal (integer): \"))\n",
    "        except ValueError:\n",
    "            print(\"Input harus bilangan bulat!\")\n",
    "            continue\n",
    "        \n",
    "        if pilihan == '1':\n",
    "            hasil = desimal_to_biner(n)\n",
    "            print(f\"Desimal {n} ke Biner = {hasil}\")\n",
    "        elif pilihan == '2':\n",
    "            hasil = desimal_to_oktal(n)\n",
    "            print(f\"Desimal {n} ke Oktal = {hasil}\")\n",
    "        elif pilihan == '3':\n",
    "            hasil = desimal_to_heksadesimal(n)\n",
    "            print(f\"Desimal {n} ke Hexadesimal = {hasil}\")\n",
    "\n",
    "def main():\n",
    "    while True:\n",
    "        print(\"\\n=== Menu Utama ===\")\n",
    "        print(\"1. Aritmatika\")\n",
    "        print(\"2. Konversi\")\n",
    "        print(\"3. Ubah Bilangan\")\n",
    "        print(\"4. Keluar\")\n",
    "        pilihan = input(\"Pilih menu (1-4): \")\n",
    "        \n",
    "        if pilihan == '1':\n",
    "            menu_aritmatika()\n",
    "        elif pilihan == '2':\n",
    "            menu_konversi()\n",
    "        elif pilihan == '3':\n",
    "            menu_ubah_bilangan()\n",
    "        elif pilihan == '4':\n",
    "            print(\"Terima kasih telah menggunakan program ini.\")\n",
    "            break\n",
    "        else:\n",
    "            print(\"Pilihan tidak valid, coba lagi.\")\n",
    "\n",
    "if __name__ == \"__main__\":\n",
    "    main()"
   ]
  },
  {
   "cell_type": "code",
   "execution_count": null,
   "id": "7d6b52ef-f07f-4b36-a5a6-79372fe8844b",
   "metadata": {},
   "outputs": [],
   "source": []
  }
 ],
 "metadata": {
  "kernelspec": {
   "display_name": "Python 3 (ipykernel)",
   "language": "python",
   "name": "python3"
  },
  "language_info": {
   "codemirror_mode": {
    "name": "ipython",
    "version": 3
   },
   "file_extension": ".py",
   "mimetype": "text/x-python",
   "name": "python",
   "nbconvert_exporter": "python",
   "pygments_lexer": "ipython3",
   "version": "3.12.7"
  }
 },
 "nbformat": 4,
 "nbformat_minor": 5
}
